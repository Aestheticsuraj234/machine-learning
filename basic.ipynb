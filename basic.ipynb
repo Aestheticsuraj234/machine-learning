{
 "cells": [
  {
   "cell_type": "code",
   "execution_count": 1,
   "id": "0afe536f-fcc6-49a3-86ee-fb884bb3e2e6",
   "metadata": {},
   "outputs": [
    {
     "name": "stdout",
     "output_type": "stream",
     "text": [
      "Hello world\n"
     ]
    }
   ],
   "source": [
    "print(\"Hello world\")"
   ]
  },
  {
   "cell_type": "markdown",
   "id": "e207348e",
   "metadata": {},
   "source": [
    "# My First Attempt to write Python Code on Jupyter Notebook"
   ]
  },
  {
   "cell_type": "code",
   "execution_count": 2,
   "id": "5f7a642c-4c7b-4266-9434-c94aa7e740bc",
   "metadata": {},
   "outputs": [
    {
     "data": {
      "text/plain": [
       "14"
      ]
     },
     "execution_count": 2,
     "metadata": {},
     "output_type": "execute_result"
    }
   ],
   "source": [
    "def add_numbers(a,b):\n",
    "    \"\"\"\n",
    "    Add Two Numbers Together\n",
    "    \n",
    "    Returns\n",
    "    ------\n",
    "    the_sum: type of arguments\n",
    "\n",
    "    Args:\n",
    "        a (_type_): number\n",
    "        b (_type_): number\n",
    "    \"\"\"\n",
    "    \n",
    "    return a + b\n",
    "\n",
    "add_numbers(2,12)"
   ]
  },
  {
   "cell_type": "code",
   "execution_count": 3,
   "id": "c5a3ab98",
   "metadata": {},
   "outputs": [
    {
     "name": "stdout",
     "output_type": "stream",
     "text": [
      "('s', 't', 'r', 'i', 'n', 'g')\n",
      "4 5 6\n"
     ]
    }
   ],
   "source": [
    "# tup = (4,5,6)\n",
    "\n",
    "# # print(tup)\n",
    "\n",
    "# tup = 4,5,6\n",
    "\n",
    "# print(tup)\n",
    "\n",
    "tup = tuple('string')\n",
    "print(tup)\n",
    "\n",
    "tup = (4,5,6)\n",
    "\n",
    "a , b , c = tup\n",
    "\n",
    "print(a,b,c)"
   ]
  },
  {
   "cell_type": "code",
   "execution_count": 4,
   "id": "48c12c72",
   "metadata": {},
   "outputs": [
    {
     "name": "stdout",
     "output_type": "stream",
     "text": [
      "(4, 5, (6, 7))\n"
     ]
    }
   ],
   "source": [
    "tup = 4, 5, (6, 7)\n",
    "print(tup)"
   ]
  },
  {
   "cell_type": "code",
   "execution_count": 5,
   "id": "1fd07c1c",
   "metadata": {},
   "outputs": [
    {
     "name": "stdout",
     "output_type": "stream",
     "text": [
      "a=1, b=2, c=3\n",
      "a=4, b=5, c=6\n",
      "a=7, b=8, c=9\n"
     ]
    }
   ],
   "source": [
    "seq = [(1, 2, 3), (4, 5, 6), (7, 8, 9)]\n",
    " \n",
    "for a , b , c in seq:\n",
    "    print('a={0}, b={1}, c={2}'.format(a, b, c))"
   ]
  },
  {
   "cell_type": "code",
   "execution_count": 6,
   "id": "5d2682da",
   "metadata": {},
   "outputs": [
    {
     "name": "stdout",
     "output_type": "stream",
     "text": [
      "1 2 [3, 4, 5]\n"
     ]
    }
   ],
   "source": [
    "values = 1 , 2 , 3 , 4 , 5\n",
    "a,b, *rest = values\n",
    "\n",
    "print(a,b , rest)"
   ]
  },
  {
   "cell_type": "code",
   "execution_count": null,
   "id": "98b391c6",
   "metadata": {},
   "outputs": [],
   "source": []
  }
 ],
 "metadata": {
  "kernelspec": {
   "display_name": "Python 3 (ipykernel)",
   "language": "python",
   "name": "python3"
  },
  "language_info": {
   "codemirror_mode": {
    "name": "ipython",
    "version": 3
   },
   "file_extension": ".py",
   "mimetype": "text/x-python",
   "name": "python",
   "nbconvert_exporter": "python",
   "pygments_lexer": "ipython3",
   "version": "3.12.2"
  }
 },
 "nbformat": 4,
 "nbformat_minor": 5
}
